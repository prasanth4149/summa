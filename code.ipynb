{
  "nbformat": 4,
  "nbformat_minor": 0,
  "metadata": {
    "colab": {
      "provenance": [],
      "collapsed_sections": []
    },
    "kernelspec": {
      "name": "python3",
      "display_name": "Python 3"
    },
    "language_info": {
      "name": "python"
    }
  },
  "cells": [
    {
      "cell_type": "code",
      "source": [
        "import time\n",
        "i=0\n",
        "while (i<=10):\n",
        "    i=i+1\n",
        "    time.sleep(1)\n",
        "    \n",
        "    import random\n",
        "    temperature=random.randint(0,30)\n",
        "    humidity=random.randint(1,100)\n",
        "    if temperature<=15:\n",
        "        print(temperature, \"temperature is low\")\n",
        "    elif temperature<=25:\n",
        "        print(temperature, \"temperature is normal\")\n",
        "    else :\n",
        "        print(temperature, \"temperature is high\")\n",
        "    if humidity<=30:\n",
        "        print(humidity, \"humidity is low \")\n",
        "    elif humidity<=60:\n",
        "        print(humidity, \"humidity is normal\")\n",
        "    else :\n",
        "        print(humidity, \"humidity is high\")\n"
      ],
      "metadata": {
        "colab": {
          "base_uri": "https://localhost:8080/"
        },
        "id": "vL7O9uJtgcbx",
        "outputId": "16ef89bc-1e8e-49a1-ed84-9bf20862c399"
      },
      "execution_count": 1,
      "outputs": [
        {
          "output_type": "stream",
          "name": "stdout",
          "text": [
            "13 temperature is low\n",
            "26 humidity is low \n",
            "3 temperature is low\n",
            "84 humidity is high\n",
            "0 temperature is low\n",
            "23 humidity is low \n",
            "18 temperature is normal\n",
            "97 humidity is high\n",
            "6 temperature is low\n",
            "36 humidity is normal\n",
            "5 temperature is low\n",
            "43 humidity is normal\n",
            "13 temperature is low\n",
            "82 humidity is high\n",
            "7 temperature is low\n",
            "18 humidity is low \n",
            "26 temperature is high\n",
            "96 humidity is high\n",
            "26 temperature is high\n",
            "57 humidity is normal\n",
            "10 temperature is low\n",
            "74 humidity is high\n"
          ]
        }
      ]
    }
  ]
}